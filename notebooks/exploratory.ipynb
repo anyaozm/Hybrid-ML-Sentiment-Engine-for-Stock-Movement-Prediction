import pandas as pd
import matplotlib.pyplot as plt
from utils.fetch_data import fetch_stock_data
from utils.preprocess import add_sentiment_column

ticker = 'AAPL'
df = fetch_stock_data(ticker, start='2022-01-01', end='2022-06-01')

headlines = [
    "Apple launches new product",
    "Strong earnings report",
    "Regulatory pressure on tech stocks",
    "Apple delays new device release",
    "Investors optimistic about services revenue"
] * (len(df) // 5 + 1)

df = add_sentiment_column(df, headlines[:len(df)])

df[['Close', 'sentiment']].plot(subplots=True, figsize=(10, 6), title=['Close Price', 'Sentiment'])
plt.tight_layout()
plt.show()
