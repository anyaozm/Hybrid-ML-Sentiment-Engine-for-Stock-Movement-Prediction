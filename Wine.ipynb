{
 "cells": [
  {
   "cell_type": "code",
   "execution_count": 30,
   "metadata": {},
   "outputs": [],
   "source": [
    "import numpy as np\n",
    "import pandas as pd\n",
    "import keras\n",
    "from keras.models import Sequential\n",
    "from keras.layers import Dense\n",
    "import matplotlib.pyplot as plt"
   ]
  },
  {
   "cell_type": "code",
   "execution_count": 31,
   "metadata": {},
   "outputs": [],
   "source": [
    "#random seed for reproducbility\n",
    "np.random.seed(7)"
   ]
  },
  {
   "cell_type": "code",
   "execution_count": 32,
   "metadata": {},
   "outputs": [],
   "source": [
    "#load data\n",
    "address_1 = '/Users/anyaozmen/Desktop/winequality.csv'\n",
    "address_2 = '/Users/anyaozmen/Desktop/target.csv'\n",
    "\n",
    "df = pd.read_csv(address_1)\n",
    "df_2 = pd.read_csv(address_2)\n",
    "#df_2 = pd.read_csv(address_2, skiprows=[0])"
   ]
  },
  {
   "cell_type": "code",
   "execution_count": 33,
   "metadata": {},
   "outputs": [
    {
     "data": {
      "text/plain": [
       "<matplotlib.collections.PathCollection at 0x11accb9b0>"
      ]
     },
     "execution_count": 33,
     "metadata": {},
     "output_type": "execute_result"
    },
    {
     "data": {
      "image/png": "[encoded data removed]",
      "text/plain": [
       "<Figure size 432x288 with 1 Axes>"
      ]
     },
     "metadata": {},
     "output_type": "display_data"
    }
   ],
   "source": [
    "#df.to_csv(r'/Users/anyaozmen/Desktop/trainwine.csv')\n",
    "#df_2.to_csv(r'/Users/anyaozmen/Desktop/test.csv')\n",
    "plt.scatter(df['volatile acidity'],df['quality'])"
   ]
  },
  {
   "cell_type": "code",
   "execution_count": 34,
   "metadata": {},
   "outputs": [],
   "source": [
    "from sklearn.model_selection import train_test_split"
   ]
  },
  {
   "cell_type": "code",
   "execution_count": 126,
   "metadata": {},
   "outputs": [],
   "source": [
    "X = df['volatile acidity']\n",
    "Y = df['quality']"
   ]
  },
  {
   "cell_type": "code",
   "execution_count": 127,
   "metadata": {},
   "outputs": [],
   "source": [
    "X_train, X_test, Y_train, Y_test = train_test_split(X,Y, test_size =0.1)"
   ]
  },
  {
   "cell_type": "code",
   "execution_count": 133,
   "metadata": {},
   "outputs": [
    {
     "name": "stderr",
     "output_type": "stream",
     "text": [
      "/anaconda3/lib/python3.6/site-packages/ipykernel_launcher.py:2: UserWarning: Update your `Dense` call to the Keras 2 API: `Dense(2, input_dim=1, activation=\"tanh\", kernel_initializer=\"uniform\")`\n",
      "  \n"
     ]
    }
   ],
   "source": [
    "model = Sequential()\n",
    "model.add(Dense(2, input_dim = 1, init='uniform', activation='tanh'))\n",
    "#model.add(Dense(2,  init='uniform', activation ='tanh'))\n",
    "#model.add(Dense(1,  init='uniform', activation ='tanh'))"
   ]
  },
  {
   "cell_type": "code",
   "execution_count": 134,
   "metadata": {},
   "outputs": [],
   "source": [
    "#Compile\n",
    "model.compile(loss='mean_squared_error', optimizer='adam', metrics=['accuracy'])"
   ]
  },
  {
   "cell_type": "code",
   "execution_count": 135,
   "metadata": {},
   "outputs": [
    {
     "ename": "ValueError",
     "evalue": "Error when checking target: expected dense_49 to have shape (2,) but got array with shape (1,)",
     "output_type": "error",
     "traceback": [
      "\u001b[0;31m---------------------------------------------------------------------------\u001b[0m",
      "\u001b[0;31mValueError\u001b[0m                                Traceback (most recent call last)",
      "\u001b[0;32m<ipython-input-135-4ef71791b99f>\u001b[0m in \u001b[0;36m<module>\u001b[0;34m()\u001b[0m\n\u001b[1;32m      1\u001b[0m \u001b[0;31m#Fit\u001b[0m\u001b[0;34m\u001b[0m\u001b[0;34m\u001b[0m\u001b[0m\n\u001b[0;32m----> 2\u001b[0;31m \u001b[0mmodel\u001b[0m\u001b[0;34m.\u001b[0m\u001b[0mfit\u001b[0m\u001b[0;34m(\u001b[0m\u001b[0mX\u001b[0m\u001b[0;34m,\u001b[0m\u001b[0mY\u001b[0m\u001b[0;34m,\u001b[0m\u001b[0mepochs\u001b[0m\u001b[0;34m=\u001b[0m\u001b[0;36m150\u001b[0m\u001b[0;34m,\u001b[0m \u001b[0mbatch_size\u001b[0m \u001b[0;34m=\u001b[0m \u001b[0;36m15\u001b[0m\u001b[0;34m)\u001b[0m\u001b[0;34m\u001b[0m\u001b[0m\n\u001b[0m",
      "\u001b[0;32m/anaconda3/lib/python3.6/site-packages/keras/models.py\u001b[0m in \u001b[0;36mfit\u001b[0;34m(self, x, y, batch_size, epochs, verbose, callbacks, validation_split, validation_data, shuffle, class_weight, sample_weight, initial_epoch, steps_per_epoch, validation_steps, **kwargs)\u001b[0m\n\u001b[1;32m   1000\u001b[0m                               \u001b[0minitial_epoch\u001b[0m\u001b[0;34m=\u001b[0m\u001b[0minitial_epoch\u001b[0m\u001b[0;34m,\u001b[0m\u001b[0;34m\u001b[0m\u001b[0m\n\u001b[1;32m   1001\u001b[0m                               \u001b[0msteps_per_epoch\u001b[0m\u001b[0;34m=\u001b[0m\u001b[0msteps_per_epoch\u001b[0m\u001b[0;34m,\u001b[0m\u001b[0;34m\u001b[0m\u001b[0m\n\u001b[0;32m-> 1002\u001b[0;31m                               validation_steps=validation_steps)\n\u001b[0m\u001b[1;32m   1003\u001b[0m \u001b[0;34m\u001b[0m\u001b[0m\n\u001b[1;32m   1004\u001b[0m     def evaluate(self, x=None, y=None,\n",
      "\u001b[0;32m/anaconda3/lib/python3.6/site-packages/keras/engine/training.py\u001b[0m in \u001b[0;36mfit\u001b[0;34m(self, x, y, batch_size, epochs, verbose, callbacks, validation_split, validation_data, shuffle, class_weight, sample_weight, initial_epoch, steps_per_epoch, validation_steps, **kwargs)\u001b[0m\n\u001b[1;32m   1628\u001b[0m             \u001b[0msample_weight\u001b[0m\u001b[0;34m=\u001b[0m\u001b[0msample_weight\u001b[0m\u001b[0;34m,\u001b[0m\u001b[0;34m\u001b[0m\u001b[0m\n\u001b[1;32m   1629\u001b[0m             \u001b[0mclass_weight\u001b[0m\u001b[0;34m=\u001b[0m\u001b[0mclass_weight\u001b[0m\u001b[0;34m,\u001b[0m\u001b[0;34m\u001b[0m\u001b[0m\n\u001b[0;32m-> 1630\u001b[0;31m             batch_size=batch_size)\n\u001b[0m\u001b[1;32m   1631\u001b[0m         \u001b[0;31m# Prepare validation data.\u001b[0m\u001b[0;34m\u001b[0m\u001b[0;34m\u001b[0m\u001b[0m\n\u001b[1;32m   1632\u001b[0m         \u001b[0mdo_validation\u001b[0m \u001b[0;34m=\u001b[0m \u001b[0;32mFalse\u001b[0m\u001b[0;34m\u001b[0m\u001b[0m\n",
      "\u001b[0;32m/anaconda3/lib/python3.6/site-packages/keras/engine/training.py\u001b[0m in \u001b[0;36m_standardize_user_data\u001b[0;34m(self, x, y, sample_weight, class_weight, check_array_lengths, batch_size)\u001b[0m\n\u001b[1;32m   1478\u001b[0m                                     \u001b[0moutput_shapes\u001b[0m\u001b[0;34m,\u001b[0m\u001b[0;34m\u001b[0m\u001b[0m\n\u001b[1;32m   1479\u001b[0m                                     \u001b[0mcheck_batch_axis\u001b[0m\u001b[0;34m=\u001b[0m\u001b[0;32mFalse\u001b[0m\u001b[0;34m,\u001b[0m\u001b[0;34m\u001b[0m\u001b[0m\n\u001b[0;32m-> 1480\u001b[0;31m                                     exception_prefix='target')\n\u001b[0m\u001b[1;32m   1481\u001b[0m         sample_weights = _standardize_sample_weights(sample_weight,\n\u001b[1;32m   1482\u001b[0m                                                      self._feed_output_names)\n",
      "\u001b[0;32m/anaconda3/lib/python3.6/site-packages/keras/engine/training.py\u001b[0m in \u001b[0;36m_standardize_input_data\u001b[0;34m(data, names, shapes, check_batch_axis, exception_prefix)\u001b[0m\n\u001b[1;32m    121\u001b[0m                             \u001b[0;34m': expected '\u001b[0m \u001b[0;34m+\u001b[0m \u001b[0mnames\u001b[0m\u001b[0;34m[\u001b[0m\u001b[0mi\u001b[0m\u001b[0;34m]\u001b[0m \u001b[0;34m+\u001b[0m \u001b[0;34m' to have shape '\u001b[0m \u001b[0;34m+\u001b[0m\u001b[0;34m\u001b[0m\u001b[0m\n\u001b[1;32m    122\u001b[0m                             \u001b[0mstr\u001b[0m\u001b[0;34m(\u001b[0m\u001b[0mshape\u001b[0m\u001b[0;34m)\u001b[0m \u001b[0;34m+\u001b[0m \u001b[0;34m' but got array with shape '\u001b[0m \u001b[0;34m+\u001b[0m\u001b[0;34m\u001b[0m\u001b[0m\n\u001b[0;32m--> 123\u001b[0;31m                             str(data_shape))\n\u001b[0m\u001b[1;32m    124\u001b[0m     \u001b[0;32mreturn\u001b[0m \u001b[0mdata\u001b[0m\u001b[0;34m\u001b[0m\u001b[0m\n\u001b[1;32m    125\u001b[0m \u001b[0;34m\u001b[0m\u001b[0m\n",
      "\u001b[0;31mValueError\u001b[0m: Error when checking target: expected dense_49 to have shape (2,) but got array with shape (1,)"
     ]
    }
   ],
   "source": [
    "#Fit\n",
    "model.fit(X,Y,epochs=150, batch_size = 15)"
   ]
  },
  {
   "cell_type": "code",
   "execution_count": null,
   "metadata": {},
   "outputs": [],
   "source": [
    "#pred\n",
    "pred = model.predict(X)\n",
    "print(*pred)"
   ]
  },
  {
   "cell_type": "code",
   "execution_count": 90,
   "metadata": {},
   "outputs": [],
   "source": [
    "from sklearn.linear_model import LinearRegression\n",
    "clf =LinearRegression()"
   ]
  },
  {
   "cell_type": "code",
   "execution_count": 77,
   "metadata": {},
   "outputs": [
    {
     "data": {
      "text/plain": [
       "LinearRegression(copy_X=True, fit_intercept=True, n_jobs=1, normalize=False)"
      ]
     },
     "execution_count": 77,
     "metadata": {},
     "output_type": "execute_result"
    }
   ],
   "source": [
    "clf.fit(X_train,Y_train)"
   ]
  },
  {
   "cell_type": "code",
   "execution_count": 78,
   "metadata": {},
   "outputs": [
    {
     "data": {
      "text/plain": [
       "array([5.80823609, 5.773237  , 5.91323335, 5.89573381, 5.9307329 ,\n",
       "       6.01823062, 5.68573927, 5.6157411 , 5.59824155, 6.15822697,\n",
       "       5.91323335, 6.14072743, 5.87823426, 5.9307329 , 6.01823062,\n",
       "       5.96573199, 5.75573745, 5.65074019, 5.82573563, 5.79073654,\n",
       "       5.9307329 , 5.9307329 , 5.9307329 , 6.10572834, 5.94823244,\n",
       "       5.47574474, 6.03573016, 5.86073472, 5.70323882, 5.9307329 ,\n",
       "       5.70323882, 6.10572834, 6.05322971, 5.80823609, 5.87823426,\n",
       "       5.98323153, 5.80823609, 5.96573199, 5.96573199, 5.73823791,\n",
       "       5.98323153, 5.91323335, 5.98323153, 5.94823244, 5.94823244,\n",
       "       5.68573927, 5.84323517, 5.89573381, 5.98323153, 5.98323153,\n",
       "       5.72073836, 5.89573381, 6.12322789, 5.773237  , 5.63324064,\n",
       "       5.84323517, 6.00073107, 5.79073654, 5.82573563, 6.03573016,\n",
       "       5.80823609, 5.89573381, 5.94823244, 5.59824155, 5.94823244,\n",
       "       5.96573199, 5.94823244, 5.773237  , 5.86073472, 6.01823062,\n",
       "       6.01823062, 5.87823426, 5.65074019, 5.87823426, 5.89573381,\n",
       "       5.9307329 , 6.0882288 , 5.75573745, 5.9307329 , 6.0882288 ,\n",
       "       5.87823426, 6.00073107, 5.91323335, 5.9307329 , 5.91323335,\n",
       "       6.07072925, 5.40574656, 6.0882288 , 6.07072925, 5.80823609,\n",
       "       5.87823426, 6.07072925, 6.10572834, 5.80823609, 6.01823062,\n",
       "       6.17572652, 5.76448722, 6.0882288 , 5.80823609, 6.01823062,\n",
       "       5.773237  , 5.98323153, 5.773237  , 5.89573381, 5.66823973,\n",
       "       5.87823426, 6.00073107, 5.9307329 , 5.73823791, 5.87823426,\n",
       "       5.68573927, 5.86073472, 6.00073107, 6.07072925, 5.94823244,\n",
       "       5.70323882, 5.82573563, 6.07072925, 5.54574292, 5.75573745,\n",
       "       6.00073107, 5.91323335, 5.87823426, 6.15822697, 6.03573016,\n",
       "       5.80823609, 5.89573381, 5.94823244, 5.80823609, 6.0882288 ,\n",
       "       5.773237  , 6.03573016, 5.96573199, 5.76448722, 5.94823244,\n",
       "       5.94823244, 5.70323882, 5.52824337, 5.60699132, 6.01823062,\n",
       "       5.84323517, 5.54574292, 5.91323335, 5.87823426, 5.94823244,\n",
       "       5.9307329 , 6.05322971, 5.87823426, 5.98323153, 6.10572834,\n",
       "       5.773237  , 5.84323517, 5.9307329 , 5.87823426, 5.68573927,\n",
       "       5.87823426, 5.66823973, 5.87823426, 5.86073472, 6.07072925,\n",
       "       5.82573563, 5.84323517, 5.86073472, 6.12322789, 5.73823791,\n",
       "       5.73823791, 5.35324793, 5.96573199, 5.773237  , 6.12322789,\n",
       "       5.96573199, 5.68573927, 6.01823062, 5.9307329 , 5.9307329 ,\n",
       "       5.87823426, 6.05322971, 6.01823062, 5.66823973, 6.07072925,\n",
       "       5.94823244, 6.05322971, 5.9307329 , 6.05322971, 6.01823062,\n",
       "       5.86073472, 5.75573745, 6.03573016, 5.86073472, 5.84323517,\n",
       "       5.79073654, 5.87823426, 5.59824155, 5.82573563, 6.12322789,\n",
       "       5.73823791, 5.98323153, 5.94823244, 5.59824155, 5.84323517,\n",
       "       5.87823426, 5.80823609, 5.9307329 , 5.56324246, 6.10572834,\n",
       "       5.44074565, 6.00073107, 5.87823426, 5.96573199, 5.86073472,\n",
       "       6.12322789, 5.86073472, 5.4582452 , 6.01823062, 5.9307329 ,\n",
       "       5.79073654, 5.75573745, 5.98323153, 5.80823609, 5.79073654,\n",
       "       5.9307329 , 5.58074201, 5.94823244, 5.72073836, 5.80823609,\n",
       "       6.05322971, 5.70323882, 6.12322789, 5.47574474, 6.07072925,\n",
       "       5.96573199, 5.6157411 , 5.94823244, 5.94823244, 5.89573381,\n",
       "       6.0882288 , 5.89573381, 6.01823062, 5.63324064, 5.86948449,\n",
       "       5.91323335, 5.86073472, 6.07072925, 5.58074201, 5.94823244,\n",
       "       5.94823244, 5.86073472, 6.07072925, 5.91323335, 5.79073654,\n",
       "       5.98323153, 5.59824155, 6.15822697, 5.56324246, 5.98323153,\n",
       "       5.773237  , 5.89573381, 5.75573745, 5.28324975, 5.94823244,\n",
       "       6.01823062, 5.91323335, 6.05322971, 6.03573016, 5.87823426,\n",
       "       5.80823609, 5.73823791, 5.96573199, 5.91323335, 6.03573016,\n",
       "       6.12322789, 5.62449087, 5.86073472, 6.0882288 , 5.98323153,\n",
       "       5.80823609, 6.0882288 , 5.86073472, 5.70323882, 5.58074201,\n",
       "       5.96573199, 6.01823062, 6.03573016, 5.9307329 , 5.84323517,\n",
       "       5.98323153, 5.98323153, 5.59824155, 6.03573016, 6.01823062,\n",
       "       5.87823426, 5.98323153, 5.773237  , 5.86073472, 5.66823973,\n",
       "       6.00073107, 5.84323517, 6.10572834, 5.9307329 , 5.773237  ,\n",
       "       5.87823426, 5.75573745, 5.52824337, 6.00073107, 5.773237  ,\n",
       "       5.87823426, 5.63324064, 5.9307329 , 5.58949178, 5.89573381,\n",
       "       6.03573016, 5.96573199, 6.05322971, 5.9307329 , 5.94823244,\n",
       "       6.05322971, 5.86073472, 6.03573016, 5.82573563, 5.87823426,\n",
       "       5.82573563, 6.10572834, 5.80823609, 5.89573381, 5.94823244,\n",
       "       5.87823426, 5.72073836, 5.91323335, 5.91323335, 6.0882288 ,\n",
       "       6.05322971, 6.00073107, 5.82573563, 5.94823244, 6.01823062,\n",
       "       5.80823609, 6.0882288 , 6.05322971, 5.35324793, 5.65074019,\n",
       "       5.91323335, 5.9307329 , 5.79073654, 5.73823791, 6.03573016,\n",
       "       5.68573927, 5.65074019, 5.9307329 , 5.79073654, 5.91323335,\n",
       "       5.59824155, 6.01823062, 6.05322971, 5.773237  , 6.05322971,\n",
       "       5.9307329 , 5.91323335, 5.89573381, 5.9307329 , 6.07072925,\n",
       "       5.73823791, 6.03573016, 5.73823791, 6.17572652, 6.00073107,\n",
       "       5.87823426, 5.80823609, 5.73823791, 5.87823426, 5.84323517,\n",
       "       5.91323335, 5.72073836, 6.03573016, 5.82573563, 5.773237  ,\n",
       "       5.59824155, 5.66823973, 5.94823244, 5.56324246, 5.80823609,\n",
       "       6.0882288 , 5.79073654, 6.00073107, 6.03573016, 6.14072743,\n",
       "       5.82573563, 6.01823062, 6.05322971, 5.63324064, 6.0882288 ,\n",
       "       5.86073472, 5.87823426, 5.68573927, 5.56324246, 5.98323153,\n",
       "       5.88698404, 5.58074201, 6.0882288 , 6.00073107, 5.84323517,\n",
       "       5.9307329 , 5.40574656, 5.28324975, 5.82573563, 5.91323335,\n",
       "       5.9307329 , 5.9307329 , 6.00073107, 5.86073472, 5.91323335,\n",
       "       5.80823609, 5.94823244, 5.86073472, 5.70323882, 6.05322971,\n",
       "       5.87823426, 5.9307329 , 5.68573927, 5.59824155, 5.79073654,\n",
       "       6.0882288 , 5.9307329 , 5.98323153, 5.91323335, 5.94823244,\n",
       "       5.94823244, 5.773237  , 6.00073107, 6.00073107, 6.00073107,\n",
       "       5.73823791, 6.01823062, 6.10572834, 5.96573199, 5.63324064,\n",
       "       5.98323153, 5.96573199, 5.89573381, 5.91323335, 5.94823244,\n",
       "       5.86073472, 6.01823062, 5.96573199, 5.89573381, 5.773237  ,\n",
       "       5.86948449, 5.72073836, 5.98323153, 5.92198312, 5.84323517,\n",
       "       5.73823791, 6.05322971, 5.31824884, 6.01823062, 6.05322971,\n",
       "       5.96573199, 5.94823244, 5.75573745, 5.68573927, 5.98323153,\n",
       "       5.80823609, 5.91323335, 5.80823609, 5.94823244, 6.00073107,\n",
       "       5.72073836, 5.96573199, 5.80823609, 5.98323153, 5.82573563,\n",
       "       5.91323335, 5.79073654, 5.72073836, 6.01823062, 5.80823609,\n",
       "       5.49324429, 6.00073107, 6.10572834, 5.75573745, 6.14072743,\n",
       "       6.00073107, 5.39699679, 5.91323335, 5.80823609, 5.773237  ,\n",
       "       5.54574292, 5.89573381, 5.96573199, 6.01823062, 6.03573016])"
      ]
     },
     "execution_count": 78,
     "metadata": {},
     "output_type": "execute_result"
    }
   ],
   "source": [
    "clf.predict(X_test)"
   ]
  },
  {
   "cell_type": "code",
   "execution_count": 79,
   "metadata": {},
   "outputs": [
    {
     "data": {
      "text/plain": [
       "0.013906506753801897"
      ]
     },
     "execution_count": 79,
     "metadata": {},
     "output_type": "execute_result"
    }
   ],
   "source": [
    "clf.score(X_test,Y_test)"
   ]
  },
  {
   "cell_type": "code",
   "execution_count": null,
   "metadata": {},
   "outputs": [],
   "source": []
  }
 ],
 "metadata": {
  "kernelspec": {
   "display_name": "Python 3",
   "language": "python",
   "name": "python3"
  },
  "language_info": {
   "codemirror_mode": {
    "name": "ipython",
    "version": 3
   },
   "file_extension": ".py",
   "mimetype": "text/x-python",
   "name": "python",
   "nbconvert_exporter": "python",
   "pygments_lexer": "ipython3",
   "version": "3.6.7"
  }
 },
 "nbformat": 4,
 "nbformat_minor": 2
}
